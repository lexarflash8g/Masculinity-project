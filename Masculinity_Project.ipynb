{
 "cells": [
  {
   "cell_type": "markdown",
   "metadata": {},
   "source": [
    "# Investigate the Data\n",
    "\n",
    "Welcome to the cumulative project on clustering algorithms! In this project, we will be investigating the way people think about masculinity by applying the KMeans algorithm to data from  <a href=\"https://fivethirtyeight.com/\" target = \"_blank\">FiveThirtyEight</a>. FiveThirtyEight is a popular website known for their use of statistical analysis in many of their stories.\n",
    "\n",
    "To begin, take a look at `masculinity-survey.pdf`. FiveThirtyEight and WNYC studios used this survey to get their male readers' thoughts on masculinity. After looking through some of the questions asked, take a look at FiveThirtyEight's article <a href=\"https://fivethirtyeight.com/features/what-do-men-think-it-means-to-be-a-man/\" target = \"_blank\">What Do Men Think It Means To Be A Man?</a> to see their major takeaways. We're going to try to find more insights using machine learning.\n",
    "\n",
    "In the code block below, we've loaded `masculinity.csv` into a DataFrame named `survey`. This file contains the raw responses to the masculinity survey. Let's start getting a sense of how this data is structured. Try to answer these questions using your Pandas knowledge:\n",
    "* What are the names of the columns? How do those columns relate to the questions in the PDF?\n",
    "* How many rows are there?\n",
    "* How is a question with multiple parts, like question 7, represented in the DataFrame?\n",
    "* How many people said they often ask a friend for professional advice? This is the first sub-question in question 7.\n",
    "\n",
    "To answer that last question, use the `value_counts()` function. For example, `df[\"col_a\"].value_counts()` gives you a nice summary of the values found in `\"col_a\"` of the DataFrame `df`.\n",
    "\n",
    "You may also want to print `survey.head()` to get a sense of all of the columns.\n"
   ]
  },
  {
   "cell_type": "code",
   "execution_count": 67,
   "metadata": {},
   "outputs": [
    {
     "name": "stdout",
     "output_type": "stream",
     "text": [
      "Index(['Unnamed: 0', 'StartDate', 'EndDate', 'q0001', 'q0002', 'q0004_0001',\n",
      "       'q0004_0002', 'q0004_0003', 'q0004_0004', 'q0004_0005', 'q0004_0006',\n",
      "       'q0005', 'q0007_0001', 'q0007_0002', 'q0007_0003', 'q0007_0004',\n",
      "       'q0007_0005', 'q0007_0006', 'q0007_0007', 'q0007_0008', 'q0007_0009',\n",
      "       'q0007_0010', 'q0007_0011', 'q0008_0001', 'q0008_0002', 'q0008_0003',\n",
      "       'q0008_0004', 'q0008_0005', 'q0008_0006', 'q0008_0007', 'q0008_0008',\n",
      "       'q0008_0009', 'q0008_0010', 'q0008_0011', 'q0008_0012', 'q0009',\n",
      "       'q0010_0001', 'q0010_0002', 'q0010_0003', 'q0010_0004', 'q0010_0005',\n",
      "       'q0010_0006', 'q0010_0007', 'q0010_0008', 'q0011_0001', 'q0011_0002',\n",
      "       'q0011_0003', 'q0011_0004', 'q0011_0005', 'q0012_0001', 'q0012_0002',\n",
      "       'q0012_0003', 'q0012_0004', 'q0012_0005', 'q0012_0006', 'q0012_0007',\n",
      "       'q0013', 'q0014', 'q0015', 'q0017', 'q0018', 'q0019_0001', 'q0019_0002',\n",
      "       'q0019_0003', 'q0019_0004', 'q0019_0005', 'q0019_0006', 'q0019_0007',\n",
      "       'q0020_0001', 'q0020_0002', 'q0020_0003', 'q0020_0004', 'q0020_0005',\n",
      "       'q0020_0006', 'q0021_0001', 'q0021_0002', 'q0021_0003', 'q0021_0004',\n",
      "       'q0022', 'q0024', 'q0025_0001', 'q0025_0002', 'q0025_0003', 'q0026',\n",
      "       'q0028', 'q0029', 'q0030', 'q0034', 'q0035', 'q0036', 'race2',\n",
      "       'racethn4', 'educ3', 'educ4', 'age3', 'kids', 'orientation', 'weight'],\n",
      "      dtype='object')\n",
      "1189\n",
      "   Unnamed: 0     StartDate       EndDate               q0001  \\\n",
      "0           1  5/10/18 4:01  5/10/18 4:06  Somewhat masculine   \n",
      "1           2  5/10/18 6:30  5/10/18 6:53  Somewhat masculine   \n",
      "2           3  5/10/18 7:02  5/10/18 7:09      Very masculine   \n",
      "3           4  5/10/18 7:27  5/10/18 7:31      Very masculine   \n",
      "4           5  5/10/18 7:35  5/10/18 7:42      Very masculine   \n",
      "\n",
      "                q0002                  q0004_0001                  q0004_0002  \\\n",
      "0  Somewhat important                Not selected                Not selected   \n",
      "1  Somewhat important  Father or father figure(s)                Not selected   \n",
      "2   Not too important  Father or father figure(s)                Not selected   \n",
      "3   Not too important  Father or father figure(s)  Mother or mother figure(s)   \n",
      "4      Very important                Not selected                Not selected   \n",
      "\n",
      "             q0004_0003    q0004_0004    q0004_0005    ...     \\\n",
      "0          Not selected   Pop culture  Not selected    ...      \n",
      "1          Not selected  Not selected  Not selected    ...      \n",
      "2          Not selected  Not selected  Not selected    ...      \n",
      "3  Other family members  Not selected  Not selected    ...      \n",
      "4  Other family members  Not selected  Not selected    ...      \n",
      "\n",
      "                q0035                     q0036      race2  racethn4  \\\n",
      "0     Middle Atlantic  Windows Desktop / Laptop  Non-white  Hispanic   \n",
      "1  East North Central        iOS Phone / Tablet      White     White   \n",
      "2  East North Central  Windows Desktop / Laptop      White     White   \n",
      "3  East North Central  Windows Desktop / Laptop      White     White   \n",
      "4  East North Central  Windows Desktop / Laptop      White     White   \n",
      "\n",
      "             educ3            educ4       age3          kids   orientation  \\\n",
      "0  College or more  College or more    35 - 64   No children  Gay/Bisexual   \n",
      "1     Some college     Some college  65 and up  Has children      Straight   \n",
      "2  College or more  College or more    35 - 64  Has children      Straight   \n",
      "3     Some college     Some college  65 and up  Has children     No answer   \n",
      "4  College or more  College or more    35 - 64   No children      Straight   \n",
      "\n",
      "     weight  \n",
      "0  1.714026  \n",
      "1  1.247120  \n",
      "2  0.515746  \n",
      "3  0.600640  \n",
      "4  1.033400  \n",
      "\n",
      "[5 rows x 98 columns]\n"
     ]
    }
   ],
   "source": [
    "import pandas as pd\n",
    "\n",
    "survey = pd.read_csv(\"masculinity.csv\")\n",
    "\n",
    "\n",
    "print(survey.columns)\n",
    "print(len(survey))\n",
    "\n",
    "\n",
    "survey[\"q0007_0001\"].value_counts()\n",
    "\n",
    "print(survey.head())"
   ]
  },
  {
   "cell_type": "code",
   "execution_count": 52,
   "metadata": {},
   "outputs": [
    {
     "name": "stdout",
     "output_type": "stream",
     "text": [
      "0             Yes\n",
      "1              No\n",
      "2             Yes\n",
      "3             Yes\n",
      "4              No\n",
      "5              No\n",
      "6             Yes\n",
      "7             Yes\n",
      "8              No\n",
      "9             Yes\n",
      "10            Yes\n",
      "11            Yes\n",
      "12             No\n",
      "13            Yes\n",
      "14             No\n",
      "15            Yes\n",
      "16            Yes\n",
      "17             No\n",
      "18             No\n",
      "19            Yes\n",
      "20            Yes\n",
      "21            Yes\n",
      "22            Yes\n",
      "23             No\n",
      "24             No\n",
      "25            Yes\n",
      "26            Yes\n",
      "27             No\n",
      "28            Yes\n",
      "29            Yes\n",
      "          ...    \n",
      "1159    No answer\n",
      "1160           No\n",
      "1161          Yes\n",
      "1162          Yes\n",
      "1163           No\n",
      "1164           No\n",
      "1165          Yes\n",
      "1166          Yes\n",
      "1167          Yes\n",
      "1168           No\n",
      "1169          Yes\n",
      "1170           No\n",
      "1171    No answer\n",
      "1172           No\n",
      "1173          Yes\n",
      "1174           No\n",
      "1175          Yes\n",
      "1176          Yes\n",
      "1177          Yes\n",
      "1178           No\n",
      "1179          Yes\n",
      "1180          Yes\n",
      "1181           No\n",
      "1182           No\n",
      "1183          Yes\n",
      "1184          Yes\n",
      "1185          Yes\n",
      "1186          Yes\n",
      "1187          Yes\n",
      "1188          Yes\n",
      "Name: q0017, Length: 1189, dtype: object\n"
     ]
    }
   ],
   "source": [
    "print(survey['q0017'])"
   ]
  },
  {
   "cell_type": "markdown",
   "metadata": {},
   "source": [
    "# Mapping the Data\n",
    "\n",
    "In order for us to start thinking about using the KMeans algorithm with this data, we need to first figure out how to turn these responses into numerical data. Let's once again consider question 7. We can't cluster the data using the phrases `\"Often\"` or `\"Rarely\"`, but we can turn those phrases into numbers. For example, we could map the data in the following way: \n",
    "* `\"Often\"` -> `4`\n",
    "* `\"Sometimes\"` ->  `3`\n",
    "* `\"Rarely\"` -> `2` \n",
    "* `\"Never, but open to it\"` -> `1`\n",
    "* `\"Never, and not open to it\"` -> `0`.\n",
    "\n",
    "Note that it's important that these responses are somewhat linear. `\"Often\"` is at one end of the spectrum with `\"Never, and not open to it\"` at the other. The other values fall in sequence between the two. You could perform a similar mapping for the `\"educ4\"` responses (question 29), but there isn't an obvious linear progression in the `\"racethn4\"` responses (question 28).\n",
    "\n",
    "In order to do this transformation, use the `map()` function. `map()` takes a dictionary as a parameter. For example, the following line of code would turn all the `\"A\"`s into `1`s and all the `\"B\"`s into `2`s in the column `\"col_one\"`.\n",
    "\n",
    "```py\n",
    "df[\"col_one\"] = df[\"col_one\"].map({\"A\": 1, \"B\": 2})\n",
    "```\n",
    "\n",
    "We've given you a list of the columns that should be mapped. Loop through the values of the list and map each column using the mapping described above.\n",
    "\n",
    "Be careful of your spelling! Punctuation and whitespace is important. Take a look at the `value_counts()` of one of these columns to see if the mapping worked.\n"
   ]
  },
  {
   "cell_type": "code",
   "execution_count": 11,
   "metadata": {},
   "outputs": [
    {
     "name": "stdout",
     "output_type": "stream",
     "text": [
      "3.0    537\n",
      "2.0    324\n",
      "4.0    142\n",
      "1.0    123\n",
      "0.0     53\n",
      "Name: q0007_0001, dtype: int64\n"
     ]
    }
   ],
   "source": [
    "cols_to_map = [\"q0007_0001\", \"q0007_0002\", \"q0007_0003\", \"q0007_0004\",\n",
    "       \"q0007_0005\", \"q0007_0006\", \"q0007_0007\", \"q0007_0008\", \"q0007_0009\",\n",
    "       \"q0007_0010\", \"q0007_0011\"]\n",
    "\n",
    "for col in cols_to_map:\n",
    "    survey[col] = survey[col].map({\"Never, and not open to it\": 0, \"Never, but open to it\": 1, \"Rarely\":2, \"Sometimes\": 3, \"Often\": 4})\n",
    "print(survey[\"q0007_0001\"].value_counts())"
   ]
  },
  {
   "cell_type": "code",
   "execution_count": 68,
   "metadata": {},
   "outputs": [
    {
     "name": "stdout",
     "output_type": "stream",
     "text": [
      "1.0    739\n",
      "0.0    423\n",
      "Name: q0017, dtype: int64\n",
      "0       1.0\n",
      "1       0.0\n",
      "2       1.0\n",
      "3       1.0\n",
      "4       0.0\n",
      "5       0.0\n",
      "6       1.0\n",
      "7       1.0\n",
      "8       0.0\n",
      "9       1.0\n",
      "10      1.0\n",
      "11      1.0\n",
      "12      0.0\n",
      "13      1.0\n",
      "14      0.0\n",
      "15      1.0\n",
      "16      1.0\n",
      "17      0.0\n",
      "18      0.0\n",
      "19      1.0\n",
      "20      1.0\n",
      "21      1.0\n",
      "22      1.0\n",
      "23      0.0\n",
      "24      0.0\n",
      "25      1.0\n",
      "26      1.0\n",
      "27      0.0\n",
      "28      1.0\n",
      "29      1.0\n",
      "       ... \n",
      "1159    NaN\n",
      "1160    0.0\n",
      "1161    1.0\n",
      "1162    1.0\n",
      "1163    0.0\n",
      "1164    0.0\n",
      "1165    1.0\n",
      "1166    1.0\n",
      "1167    1.0\n",
      "1168    0.0\n",
      "1169    1.0\n",
      "1170    0.0\n",
      "1171    NaN\n",
      "1172    0.0\n",
      "1173    1.0\n",
      "1174    0.0\n",
      "1175    1.0\n",
      "1176    1.0\n",
      "1177    1.0\n",
      "1178    0.0\n",
      "1179    1.0\n",
      "1180    1.0\n",
      "1181    0.0\n",
      "1182    0.0\n",
      "1183    1.0\n",
      "1184    1.0\n",
      "1185    1.0\n",
      "1186    1.0\n",
      "1187    1.0\n",
      "1188    1.0\n",
      "Name: q0017, Length: 1189, dtype: float64\n",
      "0       1.0\n",
      "1       0.0\n",
      "2       1.0\n",
      "3       1.0\n",
      "4       0.0\n",
      "5       0.0\n",
      "6       1.0\n",
      "7       1.0\n",
      "8       0.0\n",
      "9       1.0\n",
      "10      1.0\n",
      "11      1.0\n",
      "12      0.0\n",
      "13      1.0\n",
      "14      0.0\n",
      "15      1.0\n",
      "16      1.0\n",
      "17      0.0\n",
      "18      0.0\n",
      "19      1.0\n",
      "20      1.0\n",
      "21      1.0\n",
      "22      1.0\n",
      "23      0.0\n",
      "24      0.0\n",
      "25      1.0\n",
      "26      1.0\n",
      "27      0.0\n",
      "28      1.0\n",
      "29      1.0\n",
      "       ... \n",
      "1159    NaN\n",
      "1160    0.0\n",
      "1161    1.0\n",
      "1162    1.0\n",
      "1163    0.0\n",
      "1164    0.0\n",
      "1165    1.0\n",
      "1166    1.0\n",
      "1167    1.0\n",
      "1168    0.0\n",
      "1169    1.0\n",
      "1170    0.0\n",
      "1171    NaN\n",
      "1172    0.0\n",
      "1173    1.0\n",
      "1174    0.0\n",
      "1175    1.0\n",
      "1176    1.0\n",
      "1177    1.0\n",
      "1178    0.0\n",
      "1179    1.0\n",
      "1180    1.0\n",
      "1181    0.0\n",
      "1182    0.0\n",
      "1183    1.0\n",
      "1184    1.0\n",
      "1185    1.0\n",
      "1186    1.0\n",
      "1187    1.0\n",
      "1188    1.0\n",
      "Name: q0017, Length: 1189, dtype: float64\n"
     ]
    }
   ],
   "source": [
    "col_map2 = [\"q0017\"]\n",
    "\n",
    "survey[\"q0017\"] = survey[\"q0017\"].map({\"Yes\":1, \"No\":0})\n",
    "print(survey[\"q0017\"].value_counts())\n",
    "print(survey[\"q0017\"])\n",
    "q_17 = survey[\"q0017\"]\n",
    "q_17.dropna(axis=0, how='all')\n",
    "print(q_17)"
   ]
  },
  {
   "cell_type": "code",
   "execution_count": null,
   "metadata": {},
   "outputs": [],
   "source": [
    "survey[\"q0028\"] = survey[\"q0017\"].map({\"White\":1, \"No\":0})"
   ]
  },
  {
   "cell_type": "markdown",
   "metadata": {},
   "source": [
    "# Plotting the Data\n",
    "\n",
    "We now have 11 different features that we could use in our KMeans algorithm. Before we jump into clustering, let's graph some of these features on a 2D graph. Call `plt.scatter` using `survey[\"q0007_0001\"]` and `survey[\"q0007_0002\"]` as parameters. Include `alpha = 0.1`. We want to include `alpha` because many of the data points will be on top of each other. Adding `alpha` will make the points appear more solid if there are many stacked on top of each other.\n",
    "\n",
    "Include axis labels on your graph. The x-axis corresponds with the first column you gave the `scatter()` function. So in this case, it corresponds to the question about asking a friend for professional advice.\n",
    "\n",
    "Does it make sense that there are few points in the top left and bottom right corners of the graph? Why? Try graphing other dimensions against each other. Are there any combinations that give you surprising results?\n"
   ]
  },
  {
   "cell_type": "code",
   "execution_count": 14,
   "metadata": {},
   "outputs": [
    {
     "data": {
      "image/png": "[encoded data removed]",
      "text/plain": [
       "<Figure size 432x288 with 1 Axes>"
      ]
     },
     "metadata": {
      "needs_background": "light"
     },
     "output_type": "display_data"
    }
   ],
   "source": [
    "from matplotlib import pyplot as plt\n",
    "plt.scatter(survey[\"q0007_0001\"],survey[\"q0007_0002\"], alpha=0.1)\n",
    "plt.xlabel(\"question about asking a prof friend\")\n",
    "plt.ylabel(\"question about asking a personal friend\")\n",
    "plt.show()"
   ]
  },
  {
   "cell_type": "markdown",
   "metadata": {},
   "source": [
    "# Build the KMeans Model\n",
    "\n",
    "It's now time to start clustering! There are so many interesting questions we could ask about this data. Let's start by seeing if clusters form based on traditionally masculine concepts. \n",
    "\n",
    "Take a look at the first four sub-questions in question 7. Those four activities aren't necessarily seen as traditionally masculine. On the other hand, sub-questions 5, 8, and 9 are often seen as very masculine activities. What would happen if we found 2 clusters based on those 7 questions? Would we find clusters that represent traditionally feminine and traditionally masculine people? Let's find out.\n",
    "\n",
    "We need to first drop all of the rows that contain a `NaN` value in any of the columns we're interested in. Create a new variable named `rows_to_cluster` and set it equal to the result of calling `dropna` on `survey`. `dropna` should have a parameter `subset` equal to a list of the 7 columns we want. If you don't include `subset`, the function will drop all rows that have an `NaN` in *any* column. This would drop almost all the rows in the dataframe!\n",
    "\n",
    "Create a `KMeans` object named `classifier` where `n_clusters = 2`. Call `classifier`'s `.fit()` method. The parameter of `.fit()` should be the 7 columns we're interested in. For example, the following line of code will fit the model based on the columns `\"col_one\"` and `\"col_two\"` of the Dataframe `df`. \n",
    "\n",
    "```py\n",
    "classifier.fit(df[[\"col_one\", \"col_two\"]])\n",
    "```\n",
    "\n",
    "Make sure to only include the columns that you want to train off of. Make sure to use `rows_to_cluster` rather than `survey` to avoid including those `NaN`s!\n",
    "\n",
    "\n",
    "\n",
    "After fitting your model, print out the model's `cluster_centers_`.\n"
   ]
  },
  {
   "cell_type": "code",
   "execution_count": 51,
   "metadata": {},
   "outputs": [
    {
     "name": "stdout",
     "output_type": "stream",
     "text": [
      "[[2.83480826 2.81710914 2.86430678 2.41297935 0.7020649  0.50884956\n",
      "  3.0339233  2.88643068]\n",
      " [1.91052632 1.86052632 0.82631579 1.71315789 0.56578947 0.10263158\n",
      "  2.70789474 2.00263158]]\n"
     ]
    }
   ],
   "source": [
    "from sklearn.cluster import KMeans\n",
    "rows_to_cluster = survey.dropna(subset= [\"q0007_0001\", \"q0007_0002\",\"q0007_0003\", \"q0007_0004\" , \"q0007_0005\", \"q0007_0007\", \"q0007_0008\", \"q0007_0009\"])\n",
    "\n",
    "classifier = KMeans(n_clusters=2)\n",
    "classifier.fit(rows_to_cluster[[\"q0007_0001\", \"q0007_0002\",\"q0007_0003\", \"q0007_0004\" , \"q0007_0005\", \"q0007_0007\", \"q0007_0008\", \"q0007_0009\"]])\n",
    "print(classifier.cluster_centers_)"
   ]
  },
  {
   "cell_type": "markdown",
   "metadata": {},
   "source": [
    "# Separate the Cluster Members\n",
    "\n",
    "When we look at the two clusters, the first four numbers represent the traditionally feminine activities and the last three represent the traditionally masculine activities. If the data points separated into a feminine cluser and a masculine cluseter, we would expect to see one cluster to have high values for the first four numbers and the other cluster to have high values for the last three numbers.\n",
    "\n",
    "Instead, the first cluster has a higher value in every feature. Since a higher number means the person was more likely to \"often\" do something, the clusters seem to represent \"people who do things\" and \"people who don't do things\".\n",
    "\n",
    "We might be able to find out more information about these clusters by looking at the specific members of each cluster. Print `classifier.labels_`. This list shows which cluster every row in the DataFrame corresponds to.\n",
    "\n",
    "For example,  if `classifier.labels_` was `[1, 0 ,1]`, then the first row in the DataFrame would be in cluster one, the second row would be in cluster 0, and the third row would be in cluster one. A row represents one persons answers to every question in the survey.\n",
    "\n",
    "Create two new empty lists named `cluster_zero_indices` and `cluster_one_indices`. Loop through `classifier.labels_` and whenever a label is `0` add that index to `cluster_zero_indices`. Do the same whenever a label is a `1`.\n",
    "\n",
    "Print `cluster_zero_indices`"
   ]
  },
  {
   "cell_type": "code",
   "execution_count": 30,
   "metadata": {},
   "outputs": [
    {
     "name": "stdout",
     "output_type": "stream",
     "text": [
      "[1 0 1 ... 0 0 0]\n",
      "[1, 4, 6, 7, 9, 10, 12, 17, 18, 19, 21, 24, 29, 35, 39, 42, 49, 51, 52, 53, 54, 55, 57, 58, 62, 63, 65, 66, 75, 78, 79, 82, 84, 86, 87, 88, 89, 90, 92, 94, 95, 97, 98, 101, 106, 107, 109, 113, 116, 118, 119, 123, 128, 129, 130, 131, 132, 134, 139, 141, 142, 143, 154, 172, 175, 176, 178, 179, 180, 184, 187, 189, 195, 196, 198, 199, 201, 202, 209, 212, 222, 229, 230, 231, 233, 236, 237, 240, 241, 248, 249, 250, 253, 256, 260, 261, 263, 264, 272, 275, 279, 283, 284, 286, 288, 291, 296, 297, 299, 300, 301, 305, 309, 310, 323, 326, 334, 335, 338, 339, 341, 345, 348, 349, 351, 357, 358, 363, 364, 366, 374, 375, 387, 388, 389, 390, 391, 394, 395, 396, 400, 406, 407, 408, 409, 412, 414, 415, 416, 422, 425, 426, 429, 446, 451, 452, 454, 456, 458, 465, 467, 468, 473, 474, 475, 481, 486, 487, 490, 491, 493, 495, 496, 499, 505, 506, 507, 512, 513, 518, 520, 522, 523, 526, 528, 530, 539, 543, 546, 552, 553, 556, 557, 559, 560, 561, 562, 563, 564, 567, 574, 576, 577, 582, 585, 586, 589, 590, 599, 606, 612, 613, 614, 615, 617, 620, 621, 624, 626, 629, 631, 632, 633, 634, 644, 646, 649, 650, 651, 654, 657, 664, 672, 676, 678, 680, 681, 682, 686, 687, 691, 692, 697, 705, 706, 713, 714, 715, 716, 717, 718, 721, 723, 731, 733, 736, 739, 740, 743, 744, 745, 746, 753, 754, 757, 760, 761, 763, 764, 767, 770, 771, 772, 773, 777, 778, 782, 783, 784, 785, 787, 789, 790, 792, 794, 795, 796, 798, 800, 805, 809, 816, 818, 821, 822, 826, 832, 834, 838, 843, 844, 848, 851, 853, 855, 863, 866, 867, 869, 870, 874, 875, 877, 878, 879, 881, 887, 889, 890, 892, 893, 895, 896, 897, 899, 906, 909, 913, 914, 917, 918, 919, 924, 931, 934, 938, 943, 949, 953, 956, 957, 958, 962, 963, 965, 966, 969, 973, 977, 980, 982, 983, 984, 986, 988, 993, 995, 998, 1002, 1006, 1008, 1009, 1011, 1019, 1030, 1031, 1032, 1033, 1036, 1037, 1039, 1040, 1042, 1044, 1048, 1049, 1051, 1055, 1056, 1057]\n"
     ]
    }
   ],
   "source": [
    "print(classifier.labels_)\n",
    "cluster_zero_indices = []\n",
    "cluster_one_indices = []\n",
    "\n",
    "for i in range(len(classifier.labels_)):\n",
    "    if classifier.labels_[i] == 0:\n",
    "        cluster_zero_indices.append(i)\n",
    "    if classifier.labels_[i] == 1:\n",
    "        cluster_one_indices.append(i)\n",
    "        \n",
    "print(cluster_zero_indices)"
   ]
  },
  {
   "cell_type": "markdown",
   "metadata": {},
   "source": [
    "# Investigate the Cluster Members\n",
    "\n",
    "Now that we have the indices for each cluster, let's look at some stats about these two clusters. You can get the rows of the DataFrame that correspond to cluster zero by doing the following:\n",
    "\n",
    "```py\n",
    "cluster_zero_df = rows_to_cluster.iloc[cluster_zero_indices]\n",
    "```\n",
    "\n",
    "Do the same for `cluster_one_df`.\n",
    "\n",
    "Finally, let's look at some information about these two clusters. Print the `value_counts()` of the `educ4` column of each cluster. What do you notice? Try looking at different columns. For example, are the people in cluster zero significantly older than those in cluster one? You can look at the `age3` column to see.\n",
    "\n",
    "If you divide the result of `value_counts()` by the size of the cluster, you get the percentage of people in each category rather than the total number. This will make it easier to compare the two clusters."
   ]
  },
  {
   "cell_type": "code",
   "execution_count": 50,
   "metadata": {
    "scrolled": true
   },
   "outputs": [
    {
     "name": "stdout",
     "output_type": "stream",
     "text": [
      "Post graduate degree    0.365782\n",
      "College or more         0.327434\n",
      "Some college            0.230088\n",
      "High school or less     0.076696\n",
      "Name: educ4, dtype: float64\n",
      "Some college            0.315789\n",
      "College or more         0.297368\n",
      "Post graduate degree    0.250000\n",
      "High school or less     0.134211\n",
      "Name: educ4, dtype: float64\n",
      "35 - 64      322\n",
      "65 and up    308\n",
      "18 - 34       48\n",
      "Name: age3, dtype: int64\n",
      "65 and up    190\n",
      "35 - 64      168\n",
      "18 - 34       21\n",
      "Name: age3, dtype: int64\n"
     ]
    }
   ],
   "source": [
    "cluster_one_df = rows_to_cluster.iloc[cluster_one_indices]\n",
    "cluster_zero_df = rows_to_cluster.iloc[cluster_zero_indices]\n",
    "print(cluster_one_df['educ4'].value_counts()/len(cluster_one_df))\n",
    "print(cluster_zero_df['educ4'].value_counts()/len(cluster_zero_df))\n",
    "print(cluster_one_df['age3'].value_counts())\n",
    "print(cluster_zero_df['age3'].value_counts())\n"
   ]
  },
  {
   "cell_type": "markdown",
   "metadata": {},
   "source": [
    "# Explore on Your Own\n",
    "\n",
    "Great work! You've found out that by answering those 7 questions people don't fall into a \"masculine\" category or a \"feminine\" category. Instead, they seem to be divided by their level of education!\n",
    "\n",
    "Now it's time for you to explore this data on your own. In this project, we've really focused on question 7 and its sub-questions. Take a look at some of the other questions in the survey and try to ask yourself some interesting questions. Here's a list of questions you could dive into:\n",
    "\n",
    "* Which demographic features have stronger correlations with ideas of masculinity (sexual orientation, age, race, marital status, parenthood?)\n",
    "* Are certain beliefs or actions linked to more self-described masculine or feminine individuals?\n",
    "* How do insecurities change as people grow older?\n",
    "\n",
    "\n",
    "Special thanks to the team at FiveThirtyEight and specifically Dhrumil Mehta for giving us access to the data!\n"
   ]
  },
  {
   "cell_type": "code",
   "execution_count": null,
   "metadata": {},
   "outputs": [],
   "source": []
  }
 ],
 "metadata": {
  "kernelspec": {
   "display_name": "Python 3",
   "language": "python",
   "name": "python3"
  },
  "language_info": {
   "codemirror_mode": {
    "name": "ipython",
    "version": 3
   },
   "file_extension": ".py",
   "mimetype": "text/x-python",
   "name": "python",
   "nbconvert_exporter": "python",
   "pygments_lexer": "ipython3",
   "version": "3.7.1"
  }
 },
 "nbformat": 4,
 "nbformat_minor": 2
}
